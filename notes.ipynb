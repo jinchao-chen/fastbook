{
 "cells": [
  {
   "cell_type": "markdown",
   "id": "swedish-israel",
   "metadata": {},
   "source": [
    "# introduction\n",
    "\n",
    "This notebook is created to capture the items that is new to me, or what I find interesting. "
   ]
  },
  {
   "cell_type": "markdown",
   "id": "random-relationship",
   "metadata": {},
   "source": [
    "# overall progress \n",
    "\n",
    "March 6, 2021: 02_production, to continue with app deployment"
   ]
  },
  {
   "cell_type": "markdown",
   "id": "smart-closing",
   "metadata": {},
   "source": [
    "## L02 Production "
   ]
  },
  {
   "cell_type": "markdown",
   "id": "tamil-large",
   "metadata": {},
   "source": [
    "**end-to-end iteration**: start iterate from end to end; that is, don't spend months fine-tuning your model, or polishing the perfect GUI, or labelling the perfect dataset. Instead, complete every step as well as you can in a reasonable amount of time, all the way to the end. Or always deliver a MVP product and find tune at a later stage. \n",
    "\n",
    "**drivetrain approach** start by defining a clear objective, collect data to support the ultimate objectives, then build a model that you can use to determine the best actions to take to get the best results *in terms of your objective*\n",
    "\n",
    "[advices on drive train approach for digital products development](https://www.oreilly.com/radar/drivetrain-approach-data-products/)\n",
    "\n",
    "**Data augmentation** creating random variations of input data. the model can therefore learn from rotated, trimmed or scaled images: data set is augmented by varying the available input data"
   ]
  },
  {
   "cell_type": "code",
   "execution_count": null,
   "id": "based-diesel",
   "metadata": {},
   "outputs": [],
   "source": []
  }
 ],
 "metadata": {
  "kernelspec": {
   "display_name": "Python 3",
   "language": "python",
   "name": "python3"
  },
  "language_info": {
   "codemirror_mode": {
    "name": "ipython",
    "version": 3
   },
   "file_extension": ".py",
   "mimetype": "text/x-python",
   "name": "python",
   "nbconvert_exporter": "python",
   "pygments_lexer": "ipython3",
   "version": "3.8.5"
  }
 },
 "nbformat": 4,
 "nbformat_minor": 5
}
