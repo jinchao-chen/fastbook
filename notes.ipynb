{
 "cells": [
  {
   "cell_type": "markdown",
   "id": "close-disposition",
   "metadata": {},
   "source": [
    "# introduction\n",
    "\n",
    "This notebook is created to capture the items that is new to me, or what I find interesting. "
   ]
  },
  {
   "cell_type": "markdown",
   "id": "enhanced-facing",
   "metadata": {},
   "source": [
    "# overall progress \n",
    "\n",
    "March 6, 2021: 02_production, to continue with app deployment"
   ]
  },
  {
   "cell_type": "markdown",
   "id": "vocal-apollo",
   "metadata": {},
   "source": [
    "## L02 Production "
   ]
  },
  {
   "cell_type": "markdown",
   "id": "determined-aquatic",
   "metadata": {},
   "source": [
    "**end-to-end iteration**: start iterate from end to end; that is, don't spend months fine-tuning your model, or polishing the perfect GUI, or labelling the perfect dataset. Instead, complete every step as well as you can in a reasonable amount of time, all the way to the end. \n",
    "\n",
    "**drivetrain approach** start by defining a clear objective, collect data to support the ultimate objectives, then build a model that you can use to determine the best actions to take to get the best results *in terms of your objective*\n",
    "\n",
    "[advices on drive train approach for digital products development](https://www.oreilly.com/radar/drivetrain-approach-data-products/)\n",
    "\n",
    "**Data augmentation** creating random variations of input data. the model can therefore learn from rotated, trimmed or scaled images: data set is augmented by varying the available input data\n",
    "\n",
    "**web app deploy with voila**"
   ]
  },
  {
   "cell_type": "code",
   "execution_count": null,
   "id": "boxed-contamination",
   "metadata": {},
   "outputs": [],
   "source": []
  }
 ],
 "metadata": {
  "kernelspec": {
   "display_name": "Python 3",
   "language": "python",
   "name": "python3"
  },
  "language_info": {
   "codemirror_mode": {
    "name": "ipython",
    "version": 3
   },
   "file_extension": ".py",
   "mimetype": "text/x-python",
   "name": "python",
   "nbconvert_exporter": "python",
   "pygments_lexer": "ipython3",
   "version": "3.8.5"
  }
 },
 "nbformat": 4,
 "nbformat_minor": 5
}
